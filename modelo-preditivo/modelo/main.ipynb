{
 "cells": [
  {
   "cell_type": "code",
   "execution_count": null,
   "metadata": {},
   "outputs": [],
   "source": [
    "#import das bibliotecas utilizadas no projeto \n",
    "import pandas as pd\n",
    "import numpy as np\n",
    "from sklearn.preprocessing import LabelEncoder\n",
    "from sklearn.model_selection import train_test_split\n",
    "from sklearn.ensemble import RandomForestClassifier\n",
    "from sklearn.neighbors import KNeighborsClassifier"
   ]
  },
  {
   "cell_type": "code",
   "execution_count": null,
   "metadata": {},
   "outputs": [],
   "source": [
    "#Base novos clientes\n",
    "file_novos_clientes = \"novos_clientes.csv\"\n",
    "base_novos_clientes = pd.read_csv(file_novos_clientes)\n",
    "display(base_novos_clientes)"
   ]
  },
  {
   "cell_type": "code",
   "execution_count": null,
   "metadata": {},
   "outputs": [],
   "source": [
    "#Base clientes\n",
    "file_clientes = \"clientes.csv\"\n",
    "base_clientes = pd.read_csv(file_clientes)\n",
    "display(base_clientes)"
   ]
  },
  {
   "cell_type": "code",
   "execution_count": null,
   "metadata": {},
   "outputs": [],
   "source": [
    "display(base_clientes.info())"
   ]
  },
  {
   "cell_type": "code",
   "execution_count": null,
   "metadata": {},
   "outputs": [],
   "source": [
    "#LabelEnCoder\n",
    "codificador = LabelEncoder()\n",
    "\n",
    "base_clientes[\"profissao\"] = codificador.fit_transform(base_clientes[\"profissao\"])\n",
    "base_clientes[\"mix_credito\"] = codificador.fit_transform(base_clientes[\"mix_credito\"])\n",
    "base_clientes[\"comportamento_pagamento\"] = codificador.fit_transform(base_clientes[\"comportamento_pagamento\"])\n",
    "\n",
    "base_clientes.info()"
   ]
  },
  {
   "cell_type": "code",
   "execution_count": null,
   "metadata": {},
   "outputs": [],
   "source": [
    "#X dados de treino (colunas que iremos usar para fazer a previsao) e Y para os dados que gostaria de prever \n",
    "#overfiting : quando a ia nao aprende de fato conforme os dados mas apenas decora\n",
    "y = base_clientes[\"score_credito\"]\n",
    "x = base_clientes.drop(columns=[\"id_cliente\",\"score_credito\"])\n",
    "\n",
    "x_treino, x_teste, y_treino, y_teste = train_test_split(x,y,test_size=0.3)\n"
   ]
  },
  {
   "cell_type": "code",
   "execution_count": null,
   "metadata": {},
   "outputs": [],
   "source": [
    "#Modelos de ia:  arvores de descisao (random forrest) e Knn (nerirest neighbors)\n",
    "modelo_ArvoreDeDescisao = RandomForestClassifier()\n",
    "modelo_knn = KNeighborsClassifier()\n",
    "\n",
    "modelo_ArvoreDeDescisao.fit(x_treino, y_treino)\n",
    "modelo_knn.fit(x_treino, y_treino)\n"
   ]
  },
  {
   "cell_type": "code",
   "execution_count": null,
   "metadata": {},
   "outputs": [],
   "source": [
    "#Testar os modelos\n",
    "\n",
    "previsao_arvore_descisao = modelo_ArvoreDeDescisao.predict(x_teste.to_numpy())\n",
    "previsao_knn = modelo_knn.predict(x_teste.to_numpy())\n",
    "\n",
    "#Accuracy_score\n",
    "\n",
    "import sklearn.metrics  import Accuracy_score\n",
    "\n",
    "print(Accuracy_score(y_teste, previsao_arvore_descisao))\n",
    "print(Accuracy_score(y_teste, previsao_knn))"
   ]
  },
  {
   "cell_type": "code",
   "execution_count": null,
   "metadata": {},
   "outputs": [],
   "source": [
    "#Fazer novas previsoes\n",
    "#codificar novos clientes\n",
    "\n",
    "codificador = LabelEncoder()\n",
    "\n",
    "base_novos_clientes[\"profissao\"] = codificador.fit_transform(base_novos_clientes[\"profissao\"])\n",
    "base_novos_clientes[\"mix_credito\"] = codificador.fit_transform(base_novos_clientes[\"mix_credito\"])\n",
    "base_novos_clientes[\"comportamento_pagamento\"] = codificador.fit_transform(base_novos_clientes[\"comportamento_pagamento\"])\n",
    "\n",
    "display(base_novos_clientes)\n",
    "\n",
    "#Fazer previsoes\n",
    "\n",
    "previsoes = modelo_ArvoreDeDescisao.predict(base_novos_clientes)"
   ]
  }
 ],
 "metadata": {
  "kernelspec": {
   "display_name": "Python 3.11.4 ('ambiente-env': venv)",
   "language": "python",
   "name": "python3"
  },
  "language_info": {
   "codemirror_mode": {
    "name": "ipython",
    "version": 3
   },
   "file_extension": ".py",
   "mimetype": "text/x-python",
   "name": "python",
   "nbconvert_exporter": "python",
   "pygments_lexer": "ipython3",
   "version": "3.12.0"
  },
  "orig_nbformat": 4,
  "vscode": {
   "interpreter": {
    "hash": "0c70b189684efb36e7978d7dfdfda88c378f27f293e433cd70e5cde327d206a4"
   }
  }
 },
 "nbformat": 4,
 "nbformat_minor": 2
}
